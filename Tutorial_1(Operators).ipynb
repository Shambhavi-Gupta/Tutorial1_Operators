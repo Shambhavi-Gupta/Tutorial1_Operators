{
  "nbformat": 4,
  "nbformat_minor": 0,
  "metadata": {
    "colab": {
      "name": "Tutorial 1(Operators).ipynb",
      "provenance": [],
      "authorship_tag": "ABX9TyOS9rbn8dR4Hy6hhTWHtRi9",
      "include_colab_link": true
    },
    "kernelspec": {
      "name": "python3",
      "display_name": "Python 3"
    }
  },
  "cells": [
    {
      "cell_type": "markdown",
      "metadata": {
        "id": "view-in-github",
        "colab_type": "text"
      },
      "source": [
        "<a href=\"https://colab.research.google.com/github/Shambhavi-Gupta/Tutorial1_Operators/blob/main/Tutorial_1(Operators).ipynb\" target=\"_parent\"><img src=\"https://colab.research.google.com/assets/colab-badge.svg\" alt=\"Open In Colab\"/></a>"
      ]
    },
    {
      "cell_type": "markdown",
      "metadata": {
        "id": "M6urDvCo8aHa"
      },
      "source": [
        "#**EXAMPLE OF OPERATORS**"
      ]
    },
    {
      "cell_type": "markdown",
      "metadata": {
        "id": "ZxPd_lhO8uG6"
      },
      "source": [
        "##ARITHMETIC OPERATOR( +, -, *, /, %... etc)"
      ]
    },
    {
      "cell_type": "code",
      "metadata": {
        "id": "edmnqPXm_2gE",
        "colab": {
          "base_uri": "https://localhost:8080/",
          "height": 34
        },
        "outputId": "d2956dee-ce3d-44db-dcbf-11f89f7ef58f"
      },
      "source": [
        "a=10\n",
        "b=20\n",
        "a*b"
      ],
      "execution_count": null,
      "outputs": [
        {
          "output_type": "execute_result",
          "data": {
            "text/plain": [
              "200"
            ]
          },
          "metadata": {
            "tags": []
          },
          "execution_count": 10
        }
      ]
    },
    {
      "cell_type": "markdown",
      "metadata": {
        "id": "CqhkLrKq8yIL"
      },
      "source": [
        "##ASSIGNMENT OPERATOR(+= , -= , *= ...etc.)"
      ]
    },
    {
      "cell_type": "code",
      "metadata": {
        "id": "guDYXo_3_5Qr"
      },
      "source": [
        "a=11\n",
        "a+= 1    #a = a+1"
      ],
      "execution_count": null,
      "outputs": []
    },
    {
      "cell_type": "code",
      "metadata": {
        "id": "9anLdYjr_5Gj",
        "colab": {
          "base_uri": "https://localhost:8080/",
          "height": 34
        },
        "outputId": "d5311b6e-0d61-4e0a-8860-39cadc793c33"
      },
      "source": [
        "print(a)"
      ],
      "execution_count": null,
      "outputs": [
        {
          "output_type": "stream",
          "text": [
            "12\n"
          ],
          "name": "stdout"
        }
      ]
    },
    {
      "cell_type": "markdown",
      "metadata": {
        "id": "cYtwrxZ89Um7"
      },
      "source": [
        "##COMPARISON OPERATOR (== , > , < .... etc.)"
      ]
    },
    {
      "cell_type": "code",
      "metadata": {
        "id": "Ms33_8jl_7rC",
        "colab": {
          "base_uri": "https://localhost:8080/",
          "height": 34
        },
        "outputId": "5b9b105b-476e-447a-fe10-36c73fc939e2"
      },
      "source": [
        "p = 70\n",
        "q= 70\n",
        "if (p==q) :\n",
        "    print(\"these are equal\")\n",
        "else :\n",
        "    print(\"they are not equal\")  "
      ],
      "execution_count": null,
      "outputs": [
        {
          "output_type": "stream",
          "text": [
            "these are equal\n"
          ],
          "name": "stdout"
        }
      ]
    },
    {
      "cell_type": "markdown",
      "metadata": {
        "id": "SoJY_C5p9ll0"
      },
      "source": [
        "##LOGICAL OPERATOR (& , | ....etc.)"
      ]
    },
    {
      "cell_type": "code",
      "metadata": {
        "id": "9Y5OmSo7_-W-",
        "colab": {
          "base_uri": "https://localhost:8080/",
          "height": 34
        },
        "outputId": "f3c10767-4ac6-4dc2-d1c5-34ac52561916"
      },
      "source": [
        "a=10\n",
        "b=20\n",
        "print(\"a | b is\", a|b)"
      ],
      "execution_count": null,
      "outputs": [
        {
          "output_type": "stream",
          "text": [
            "a | b is 30\n"
          ],
          "name": "stdout"
        }
      ]
    },
    {
      "cell_type": "markdown",
      "metadata": {
        "id": "RI3tbkmZ9xsH"
      },
      "source": [
        "##IDENTITY OPERATOR (is , is not )"
      ]
    },
    {
      "cell_type": "code",
      "metadata": {
        "id": "PPb-AUQ9ABSd",
        "colab": {
          "base_uri": "https://localhost:8080/",
          "height": 34
        },
        "outputId": "6363b1a6-0da7-47be-ab21-a2c0543bb83a"
      },
      "source": [
        "x=10\n",
        "z=x\n",
        "print(x is not z)"
      ],
      "execution_count": null,
      "outputs": [
        {
          "output_type": "stream",
          "text": [
            "False\n"
          ],
          "name": "stdout"
        }
      ]
    },
    {
      "cell_type": "markdown",
      "metadata": {
        "id": "ErkvlLW29-tW"
      },
      "source": [
        "##MEMBERSHIP OPERATOR (in , in not)"
      ]
    },
    {
      "cell_type": "code",
      "metadata": {
        "id": "eMemnfUJADL1",
        "colab": {
          "base_uri": "https://localhost:8080/",
          "height": 34
        },
        "outputId": "3609c0b5-b621-4bff-b308-4a0953a819ed"
      },
      "source": [
        "x = \"apple\"\n",
        "print(\"apple\" in x)"
      ],
      "execution_count": null,
      "outputs": [
        {
          "output_type": "stream",
          "text": [
            "True\n"
          ],
          "name": "stdout"
        }
      ]
    },
    {
      "cell_type": "code",
      "metadata": {
        "id": "552tFiFyAC_F"
      },
      "source": [
        ""
      ],
      "execution_count": null,
      "outputs": []
    }
  ]
}